{
 "cells": [
  {
   "cell_type": "code",
   "execution_count": 3,
   "metadata": {},
   "outputs": [],
   "source": [
    "import os\n",
    "import numpy as np\n",
    "import argparse\n",
    "import wandb\n",
    "import uuid\n",
    "\n",
    "from stable_baselines3 import PPO, SAC, TD3, DDPG, A2C, DQN\n",
    "from stable_baselines3.common.env_util import make_vec_env\n",
    "from stable_baselines3.common.evaluation import evaluate_policy\n",
    "from stable_baselines3.common.monitor import Monitor\n",
    "from stable_baselines3.common.callbacks import BaseCallback\n",
    "from gym_donkeycar.envs.donkey_env import DonkeyEnv\n",
    "from stable_baselines3.common.callbacks import CheckpointCallback, CallbackList\n",
    "\n",
    "import sys\n",
    "path = r\"c:\\Users\\spige\\memoire\\gym-donkeycar-retry\\gym-donkeycar\\CarConsumptionModel\"\n",
    "sys.path.insert(0, path)\n",
    "\n",
    "\n",
    "from utils.callbacks import CustomProgressBarCallback\n",
    "from donkey_environment.ConsumptionWrapper import ConsumptionWrapper\n"
   ]
  },
  {
   "cell_type": "code",
   "execution_count": 7,
   "metadata": {},
   "outputs": [
    {
     "data": {
      "text/plain": [
       "<module 'donkey_environment.ConsumptionWrapper' from 'c:\\\\Users\\\\spige\\\\memoire\\\\gym-donkeycar-retry\\\\gym-donkeycar\\\\CarConsumptionModel\\\\donkey_environment\\\\ConsumptionWrapper.py'>"
      ]
     },
     "execution_count": 7,
     "metadata": {},
     "output_type": "execute_result"
    }
   ],
   "source": [
    "# import importlib\n",
    "# importlib.reload(sys.modules['donkey_environment.ConsumptionWrapper'])"
   ]
  },
  {
   "cell_type": "code",
   "execution_count": 6,
   "metadata": {},
   "outputs": [],
   "source": [
    "import warnings\n",
    "from typing import Any, ClassVar, Dict, Optional, Type, TypeVar, Union\n",
    "\n",
    "import numpy as np\n",
    "import torch as th\n",
    "from gymnasium import spaces\n",
    "from torch.nn import functional as F\n",
    "\n",
    "from stable_baselines3.common.on_policy_algorithm import OnPolicyAlgorithm\n",
    "from stable_baselines3.common.policies import ActorCriticCnnPolicy, ActorCriticPolicy, BasePolicy, MultiInputActorCriticPolicy\n",
    "from stable_baselines3.common.type_aliases import GymEnv, MaybeCallback, Schedule\n",
    "from stable_baselines3.common.utils import explained_variance, get_schedule_fn\n",
    "\n",
    "from stable_baselines3.common.vec_env import VecEnv\n",
    "from stable_baselines3.common.buffers import RolloutBuffer\n",
    "from stable_baselines3.common.callbacks import BaseCallback\n",
    "from stable_baselines3.common.utils import obs_as_tensor, safe_mean\n",
    "\n",
    "\n",
    "SelfPPOInteraction = TypeVar(\"SelfPPOInteraction\", bound=\"PPOInteraction\")\n",
    "\n",
    "\n",
    "class PPOInteraction(OnPolicyAlgorithm):\n",
    "    \"\"\"\n",
    "    Proximal Policy Optimization algorithm (PPO) (clip version)\n",
    "\n",
    "    Paper: https://arxiv.org/abs/1707.06347\n",
    "    Code: This implementation borrows code from OpenAI Spinning Up (https://github.com/openai/spinningup/)\n",
    "    https://github.com/ikostrikov/pytorch-a2c-ppo-acktr-gail and\n",
    "    Stable Baselines (PPO2 from https://github.com/hill-a/stable-baselines)\n",
    "\n",
    "    Introduction to PPO: https://spinningup.openai.com/en/latest/algorithms/ppo.html\n",
    "\n",
    "    :param policy: The policy model to use (MlpPolicy, CnnPolicy, ...)\n",
    "    :param env: The environment to learn from (if registered in Gym, can be str)\n",
    "    :param learning_rate: The learning rate, it can be a function\n",
    "        of the current progress remaining (from 1 to 0)\n",
    "    :param n_steps: The number of steps to run for each environment per update\n",
    "        (i.e. rollout buffer size is n_steps * n_envs where n_envs is number of environment copies running in parallel)\n",
    "        NOTE: n_steps * n_envs must be greater than 1 (because of the advantage normalization)\n",
    "        See https://github.com/pytorch/pytorch/issues/29372\n",
    "    :param batch_size: Minibatch size\n",
    "    :param n_epochs: Number of epoch when optimizing the surrogate loss\n",
    "    :param gamma: Discount factor\n",
    "    :param gae_lambda: Factor for trade-off of bias vs variance for Generalized Advantage Estimator\n",
    "    :param clip_range: Clipping parameter, it can be a function of the current progress\n",
    "        remaining (from 1 to 0).\n",
    "    :param clip_range_vf: Clipping parameter for the value function,\n",
    "        it can be a function of the current progress remaining (from 1 to 0).\n",
    "        This is a parameter specific to the OpenAI implementation. If None is passed (default),\n",
    "        no clipping will be done on the value function.\n",
    "        IMPORTANT: this clipping depends on the reward scaling.\n",
    "    :param normalize_advantage: Whether to normalize or not the advantage\n",
    "    :param ent_coef: Entropy coefficient for the loss calculation\n",
    "    :param vf_coef: Value function coefficient for the loss calculation\n",
    "    :param max_grad_norm: The maximum value for the gradient clipping\n",
    "    :param use_sde: Whether to use generalized State Dependent Exploration (gSDE)\n",
    "        instead of action noise exploration (default: False)\n",
    "    :param sde_sample_freq: Sample a new noise matrix every n steps when using gSDE\n",
    "        Default: -1 (only sample at the beginning of the rollout)\n",
    "    :param target_kl: Limit the KL divergence between updates,\n",
    "        because the clipping is not enough to prevent large update\n",
    "        see issue #213 (cf https://github.com/hill-a/stable-baselines/issues/213)\n",
    "        By default, there is no limit on the kl div.\n",
    "    :param stats_window_size: Window size for the rollout logging, specifying the number of episodes to average\n",
    "        the reported success rate, mean episode length, and mean reward over\n",
    "    :param tensorboard_log: the log location for tensorboard (if None, no logging)\n",
    "    :param policy_kwargs: additional arguments to be passed to the policy on creation\n",
    "    :param verbose: Verbosity level: 0 for no output, 1 for info messages (such as device or wrappers used), 2 for\n",
    "        debug messages\n",
    "    :param seed: Seed for the pseudo random generators\n",
    "    :param device: Device (cpu, cuda, ...) on which the code should be run.\n",
    "        Setting it to auto, the code will be run on the GPU if possible.\n",
    "    :param _init_setup_model: Whether or not to build the network at the creation of the instance\n",
    "    \"\"\"\n",
    "\n",
    "    policy_aliases: ClassVar[Dict[str, Type[BasePolicy]]] = {\n",
    "        \"MlpPolicy\": ActorCriticPolicy,\n",
    "        \"CnnPolicy\": ActorCriticCnnPolicy,\n",
    "        \"MultiInputPolicy\": MultiInputActorCriticPolicy,\n",
    "    }\n",
    "\n",
    "    def __init__(\n",
    "        self,\n",
    "        policy: Union[str, Type[ActorCriticPolicy]],\n",
    "        env: Union[GymEnv, str],\n",
    "        learning_rate: Union[float, Schedule] = 3e-4,\n",
    "        n_steps: int = 2048,\n",
    "        batch_size: int = 64,\n",
    "        n_epochs: int = 10,\n",
    "        gamma: float = 0.99,\n",
    "        gae_lambda: float = 0.95,\n",
    "        clip_range: Union[float, Schedule] = 0.2,\n",
    "        clip_range_vf: Union[None, float, Schedule] = None,\n",
    "        normalize_advantage: bool = True,\n",
    "        ent_coef: float = 0.0,\n",
    "        vf_coef: float = 0.5,\n",
    "        max_grad_norm: float = 0.5,\n",
    "        use_sde: bool = False,\n",
    "        sde_sample_freq: int = -1,\n",
    "        target_kl: Optional[float] = None,\n",
    "        stats_window_size: int = 100,\n",
    "        tensorboard_log: Optional[str] = None,\n",
    "        policy_kwargs: Optional[Dict[str, Any]] = None,\n",
    "        verbose: int = 0,\n",
    "        seed: Optional[int] = None,\n",
    "        device: Union[th.device, str] = \"auto\",\n",
    "        _init_setup_model: bool = True,\n",
    "    ):\n",
    "        super().__init__(\n",
    "            policy,\n",
    "            env,\n",
    "            learning_rate=learning_rate,\n",
    "            n_steps=n_steps,\n",
    "            gamma=gamma,\n",
    "            gae_lambda=gae_lambda,\n",
    "            ent_coef=ent_coef,\n",
    "            vf_coef=vf_coef,\n",
    "            max_grad_norm=max_grad_norm,\n",
    "            use_sde=use_sde,\n",
    "            sde_sample_freq=sde_sample_freq,\n",
    "            stats_window_size=stats_window_size,\n",
    "            tensorboard_log=tensorboard_log,\n",
    "            policy_kwargs=policy_kwargs,\n",
    "            verbose=verbose,\n",
    "            device=device,\n",
    "            seed=seed,\n",
    "            _init_setup_model=False,\n",
    "            supported_action_spaces=(\n",
    "                spaces.Box,\n",
    "                spaces.Discrete,\n",
    "                spaces.MultiDiscrete,\n",
    "                spaces.MultiBinary,\n",
    "            ),\n",
    "        )\n",
    "\n",
    "        # Sanity check, otherwise it will lead to noisy gradient and NaN\n",
    "        # because of the advantage normalization\n",
    "        if normalize_advantage:\n",
    "            assert (\n",
    "                batch_size > 1\n",
    "            ), \"`batch_size` must be greater than 1. See https://github.com/DLR-RM/stable-baselines3/issues/440\"\n",
    "\n",
    "        if self.env is not None:\n",
    "            # Check that `n_steps * n_envs > 1` to avoid NaN\n",
    "            # when doing advantage normalization\n",
    "            buffer_size = self.env.num_envs * self.n_steps\n",
    "            assert buffer_size > 1 or (\n",
    "                not normalize_advantage\n",
    "            ), f\"`n_steps * n_envs` must be greater than 1. Currently n_steps={self.n_steps} and n_envs={self.env.num_envs}\"\n",
    "            # Check that the rollout buffer size is a multiple of the mini-batch size\n",
    "            untruncated_batches = buffer_size // batch_size\n",
    "            if buffer_size % batch_size > 0:\n",
    "                warnings.warn(\n",
    "                    f\"You have specified a mini-batch size of {batch_size},\"\n",
    "                    f\" but because the `RolloutBuffer` is of size `n_steps * n_envs = {buffer_size}`,\"\n",
    "                    f\" after every {untruncated_batches} untruncated mini-batches,\"\n",
    "                    f\" there will be a truncated mini-batch of size {buffer_size % batch_size}\\n\"\n",
    "                    f\"We recommend using a `batch_size` that is a factor of `n_steps * n_envs`.\\n\"\n",
    "                    f\"Info: (n_steps={self.n_steps} and n_envs={self.env.num_envs})\"\n",
    "                )\n",
    "        self.batch_size = batch_size\n",
    "        self.n_epochs = n_epochs\n",
    "        self.clip_range = clip_range\n",
    "        self.clip_range_vf = clip_range_vf\n",
    "        self.normalize_advantage = normalize_advantage\n",
    "        self.target_kl = target_kl\n",
    "\n",
    "        if _init_setup_model:\n",
    "            self._setup_model()\n",
    "\n",
    "    def _setup_model(self) -> None:\n",
    "        super()._setup_model()\n",
    "\n",
    "        # Initialize schedules for policy/value clipping\n",
    "        self.clip_range = get_schedule_fn(self.clip_range)\n",
    "        if self.clip_range_vf is not None:\n",
    "            if isinstance(self.clip_range_vf, (float, int)):\n",
    "                assert self.clip_range_vf > 0, \"`clip_range_vf` must be positive, \" \"pass `None` to deactivate vf clipping\"\n",
    "\n",
    "            self.clip_range_vf = get_schedule_fn(self.clip_range_vf)\n",
    "\n",
    "    def train(self) -> None:\n",
    "        \"\"\"\n",
    "        Update policy using the currently gathered rollout buffer.\n",
    "        \"\"\"\n",
    "        pause_message = {\"msg_type\": \"pause\"}\n",
    "        resume_message = {\"msg_type\": \"resume\"}\n",
    "\n",
    "        self.env.envs[0].viewer.handler.blocking_send(pause_message)\n",
    "        # Switch to train mode (this affects batch norm / dropout)\n",
    "        self.policy.set_training_mode(True)\n",
    "        # Update optimizer learning rate\n",
    "        self._update_learning_rate(self.policy.optimizer)\n",
    "        # Compute current clip range\n",
    "        clip_range = self.clip_range(self._current_progress_remaining)  # type: ignore[operator]\n",
    "        # Optional: clip range for the value function\n",
    "        if self.clip_range_vf is not None:\n",
    "            clip_range_vf = self.clip_range_vf(self._current_progress_remaining)  # type: ignore[operator]\n",
    "\n",
    "        entropy_losses = []\n",
    "        pg_losses, value_losses = [], []\n",
    "        clip_fractions = []\n",
    "\n",
    "        continue_training = True\n",
    "        # train for n_epochs epochs\n",
    "        for epoch in range(self.n_epochs):\n",
    "            approx_kl_divs = []\n",
    "            # Do a complete pass on the rollout buffer\n",
    "            for rollout_data in self.rollout_buffer.get(self.batch_size):\n",
    "                actions = rollout_data.actions\n",
    "                if isinstance(self.action_space, spaces.Discrete):\n",
    "                    # Convert discrete action from float to long\n",
    "                    actions = rollout_data.actions.long().flatten()\n",
    "\n",
    "                # Re-sample the noise matrix because the log_std has changed\n",
    "                if self.use_sde:\n",
    "                    self.policy.reset_noise(self.batch_size)\n",
    "\n",
    "                values, log_prob, entropy = self.policy.evaluate_actions(rollout_data.observations, actions)\n",
    "                values = values.flatten()\n",
    "                # Normalize advantage\n",
    "                advantages = rollout_data.advantages\n",
    "                # Normalization does not make sense if mini batchsize == 1, see GH issue #325\n",
    "                if self.normalize_advantage and len(advantages) > 1:\n",
    "                    advantages = (advantages - advantages.mean()) / (advantages.std() + 1e-8)\n",
    "\n",
    "                # ratio between old and new policy, should be one at the first iteration\n",
    "                ratio = th.exp(log_prob - rollout_data.old_log_prob)\n",
    "\n",
    "                # clipped surrogate loss\n",
    "                policy_loss_1 = advantages * ratio\n",
    "                policy_loss_2 = advantages * th.clamp(ratio, 1 - clip_range, 1 + clip_range)\n",
    "                policy_loss = -th.min(policy_loss_1, policy_loss_2).mean()\n",
    "\n",
    "                # Logging\n",
    "                pg_losses.append(policy_loss.item())\n",
    "                clip_fraction = th.mean((th.abs(ratio - 1) > clip_range).float()).item()\n",
    "                clip_fractions.append(clip_fraction)\n",
    "\n",
    "                if self.clip_range_vf is None:\n",
    "                    # No clipping\n",
    "                    values_pred = values\n",
    "                else:\n",
    "                    # Clip the difference between old and new value\n",
    "                    # NOTE: this depends on the reward scaling\n",
    "                    values_pred = rollout_data.old_values + th.clamp(\n",
    "                        values - rollout_data.old_values, -clip_range_vf, clip_range_vf\n",
    "                    )\n",
    "                # Value loss using the TD(gae_lambda) target\n",
    "                value_loss = F.mse_loss(rollout_data.returns, values_pred)\n",
    "                value_losses.append(value_loss.item())\n",
    "\n",
    "                # Entropy loss favor exploration\n",
    "                if entropy is None:\n",
    "                    # Approximate entropy when no analytical form\n",
    "                    entropy_loss = -th.mean(-log_prob)\n",
    "                else:\n",
    "                    entropy_loss = -th.mean(entropy)\n",
    "\n",
    "                entropy_losses.append(entropy_loss.item())\n",
    "\n",
    "                loss = policy_loss + self.ent_coef * entropy_loss + self.vf_coef * value_loss\n",
    "\n",
    "                # Calculate approximate form of reverse KL Divergence for early stopping\n",
    "                # see issue #417: https://github.com/DLR-RM/stable-baselines3/issues/417\n",
    "                # and discussion in PR #419: https://github.com/DLR-RM/stable-baselines3/pull/419\n",
    "                # and Schulman blog: http://joschu.net/blog/kl-approx.html\n",
    "                with th.no_grad():\n",
    "                    log_ratio = log_prob - rollout_data.old_log_prob\n",
    "                    approx_kl_div = th.mean((th.exp(log_ratio) - 1) - log_ratio).cpu().numpy()\n",
    "                    approx_kl_divs.append(approx_kl_div)\n",
    "\n",
    "                if self.target_kl is not None and approx_kl_div > 1.5 * self.target_kl:\n",
    "                    continue_training = False\n",
    "                    if self.verbose >= 1:\n",
    "                        print(f\"Early stopping at step {epoch} due to reaching max kl: {approx_kl_div:.2f}\")\n",
    "                    break\n",
    "\n",
    "                # Optimization step\n",
    "                self.policy.optimizer.zero_grad()\n",
    "                loss.backward()\n",
    "                # Clip grad norm\n",
    "                th.nn.utils.clip_grad_norm_(self.policy.parameters(), self.max_grad_norm)\n",
    "                self.policy.optimizer.step()\n",
    "\n",
    "            self._n_updates += 1\n",
    "            if not continue_training:\n",
    "                self.env.envs[0].viewer.handler.blocking_send(resume_message)\n",
    "                break\n",
    "\n",
    "        explained_var = explained_variance(self.rollout_buffer.values.flatten(), self.rollout_buffer.returns.flatten())\n",
    "\n",
    "        # Logs\n",
    "        self.logger.record(\"train/entropy_loss\", np.mean(entropy_losses))\n",
    "        self.logger.record(\"train/policy_gradient_loss\", np.mean(pg_losses))\n",
    "        self.logger.record(\"train/value_loss\", np.mean(value_losses))\n",
    "        self.logger.record(\"train/approx_kl\", np.mean(approx_kl_divs))\n",
    "        self.logger.record(\"train/clip_fraction\", np.mean(clip_fractions))\n",
    "        self.logger.record(\"train/loss\", loss.item())\n",
    "        self.logger.record(\"train/explained_variance\", explained_var)\n",
    "        if hasattr(self.policy, \"log_std\"):\n",
    "            self.logger.record(\"train/std\", th.exp(self.policy.log_std).mean().item())\n",
    "\n",
    "        self.logger.record(\"train/n_updates\", self._n_updates, exclude=\"tensorboard\")\n",
    "        self.logger.record(\"train/clip_range\", clip_range)\n",
    "        if self.clip_range_vf is not None:\n",
    "            self.logger.record(\"train/clip_range_vf\", clip_range_vf)\n",
    "        \n",
    "        self.env.envs[0].viewer.handler.blocking_send(resume_message)\n",
    "\n",
    "\n",
    "    def learn(\n",
    "        self: SelfPPOInteraction,\n",
    "        total_timesteps: int,\n",
    "        callback: MaybeCallback = None,\n",
    "        log_interval: int = 1,\n",
    "        tb_log_name: str = \"PPO\",\n",
    "        reset_num_timesteps: bool = True,\n",
    "        progress_bar: bool = False,\n",
    "    ) -> SelfPPOInteraction:\n",
    "        return super().learn(\n",
    "            total_timesteps=total_timesteps,\n",
    "            callback=callback,\n",
    "            log_interval=log_interval,\n",
    "            tb_log_name=tb_log_name,\n",
    "            reset_num_timesteps=reset_num_timesteps,\n",
    "            progress_bar=progress_bar,\n",
    "        )"
   ]
  },
  {
   "cell_type": "code",
   "execution_count": 7,
   "metadata": {},
   "outputs": [
    {
     "name": "stdout",
     "output_type": "stream",
     "text": [
      "starting DonkeyGym env\n",
      "Setting default: start_delay 0.0\n",
      "Setting default: max_cte 8.0\n",
      "Setting default: frame_skip 1\n",
      "Setting default: cam_resolution (120, 160, 3)\n",
      "Setting default: log_level 20\n",
      "Setting default: host localhost\n",
      "Setting default: port 9091\n",
      "Setting default: steer_limit 1.0\n",
      "Setting default: throttle_min -1.0\n",
      "Setting default: throttle_max 1.0\n",
      "{'level': 'steep-ascent', 'start_delay': 0.0, 'max_cte': 8.0, 'frame_skip': 1, 'cam_resolution': (120, 160, 3), 'log_level': 20, 'host': 'localhost', 'port': 9091, 'steer_limit': 1.0, 'throttle_min': -1.0, 'throttle_max': 1.0}\n"
     ]
    },
    {
     "name": "stderr",
     "output_type": "stream",
     "text": [
      "c:\\Users\\spige\\AppData\\Local\\Programs\\Python\\Python310\\lib\\site-packages\\gym\\spaces\\box.py:78: UserWarning: \u001b[33mWARN: Box bound precision lowered by casting to float32\u001b[0m\n",
      "  logger.warn(f\"Box bound precision lowered by casting to {self.dtype}\")\n"
     ]
    }
   ],
   "source": [
    "model_directory = \"../models/\"\n",
    "\n",
    "#env = gym.make(\"donkey-steep-ascent-track-v0\")\n",
    "env = ConsumptionWrapper(level=\"steep-ascent\")\n",
    "\n",
    "name = \"positive_centering_consumption\"\n",
    "\n",
    "checkpoint_callback = CheckpointCallback(\n",
    "  save_freq=10_000,\n",
    "  save_path=\"../models/\",\n",
    "  name_prefix=f\"{name}\",\n",
    "  save_replay_buffer=True,\n",
    "  save_vecnormalize=True,\n",
    ")\n",
    "\n",
    "custom_progress_bar_callback = CustomProgressBarCallback()\n",
    "\n",
    "\n",
    "callback = CallbackList([checkpoint_callback, custom_progress_bar_callback])\n"
   ]
  },
  {
   "cell_type": "code",
   "execution_count": 8,
   "metadata": {},
   "outputs": [
    {
     "ename": "AttributeError",
     "evalue": "'DonkeyHandler' object has no attribute 'reward_function'",
     "output_type": "error",
     "traceback": [
      "\u001b[1;31m---------------------------------------------------------------------------\u001b[0m",
      "\u001b[1;31mAttributeError\u001b[0m                            Traceback (most recent call last)",
      "Cell \u001b[1;32mIn[8], line 1\u001b[0m\n\u001b[1;32m----> 1\u001b[0m \u001b[38;5;28mprint\u001b[39m(\u001b[43menv\u001b[49m\u001b[38;5;241;43m.\u001b[39;49m\u001b[43mviewer\u001b[49m\u001b[38;5;241;43m.\u001b[39;49m\u001b[43mhandler\u001b[49m\u001b[38;5;241;43m.\u001b[39;49m\u001b[43mreward_function\u001b[49m)\n",
      "\u001b[1;31mAttributeError\u001b[0m: 'DonkeyHandler' object has no attribute 'reward_function'"
     ]
    }
   ],
   "source": [
    "print(env.viewer.handler.reward_function)"
   ]
  },
  {
   "cell_type": "code",
   "execution_count": 5,
   "metadata": {},
   "outputs": [
    {
     "name": "stderr",
     "output_type": "stream",
     "text": [
      "c:\\Users\\spige\\AppData\\Local\\Programs\\Python\\Python310\\lib\\site-packages\\stable_baselines3\\common\\vec_env\\patch_gym.py:49: UserWarning: You provided an OpenAI Gym environment. We strongly recommend transitioning to Gymnasium environments. Stable-Baselines3 is automatically wrapping your environments in a compatibility layer, which could potentially cause issues.\n",
      "  warnings.warn(\n"
     ]
    },
    {
     "name": "stdout",
     "output_type": "stream",
     "text": [
      "Wrapping the env with a `Monitor` wrapper\n",
      "Wrapping the env in a DummyVecEnv.\n",
      "Wrapping the env in a VecTransposeImage.\n"
     ]
    }
   ],
   "source": [
    "model_name = \"pretrained_ppo_1\"\n",
    "#pretrained_model = A2C.load(f\"../models/{args.model_name}.zip\", env=env)\n",
    "\n",
    "#pretrained_model = PPO.load(f\"../models/{model_name}.zip\", env=env, verbose=1)\n",
    "\n",
    "pretrained_model = PPOInteraction.load(f\"../models/{model_name}.zip\", env=env, verbose=1, map_location=\"cpu\")"
   ]
  },
  {
   "cell_type": "code",
   "execution_count": 57,
   "metadata": {},
   "outputs": [],
   "source": [
    "# env.close()"
   ]
  },
  {
   "cell_type": "code",
   "execution_count": 41,
   "metadata": {},
   "outputs": [],
   "source": [
    "# pause_message = {\"msg_type\": \"pause\"}\n",
    "# resume_message = {\"msg_type\": \"resume\"}"
   ]
  },
  {
   "cell_type": "code",
   "execution_count": 56,
   "metadata": {},
   "outputs": [],
   "source": [
    "# env.viewer.handler.blocking_send(resume_message)"
   ]
  },
  {
   "cell_type": "code",
   "execution_count": 55,
   "metadata": {},
   "outputs": [],
   "source": [
    "# env.viewer.handler.blocking_send(pause_message)"
   ]
  },
  {
   "cell_type": "code",
   "execution_count": 53,
   "metadata": {},
   "outputs": [
    {
     "name": "stdout",
     "output_type": "stream",
     "text": [
      "entering pause at 0\n",
      "entering pause at 100\n"
     ]
    },
    {
     "ename": "KeyboardInterrupt",
     "evalue": "",
     "output_type": "error",
     "traceback": [
      "\u001b[1;31m---------------------------------------------------------------------------\u001b[0m",
      "\u001b[1;31mKeyboardInterrupt\u001b[0m                         Traceback (most recent call last)",
      "Cell \u001b[1;32mIn[53], line 9\u001b[0m\n\u001b[0;32m      7\u001b[0m \u001b[38;5;28;01mfor\u001b[39;00m i \u001b[38;5;129;01min\u001b[39;00m \u001b[38;5;28mrange\u001b[39m(max_iter):\n\u001b[0;32m      8\u001b[0m     action, _states \u001b[38;5;241m=\u001b[39m pretrained_model\u001b[38;5;241m.\u001b[39mpredict(obs, deterministic\u001b[38;5;241m=\u001b[39m\u001b[38;5;28;01mTrue\u001b[39;00m)\n\u001b[1;32m----> 9\u001b[0m     obs, rewards, dones, info \u001b[38;5;241m=\u001b[39m \u001b[43menv\u001b[49m\u001b[38;5;241;43m.\u001b[39;49m\u001b[43mstep\u001b[49m\u001b[43m(\u001b[49m\u001b[43maction\u001b[49m\u001b[43m)\u001b[49m\n\u001b[0;32m     11\u001b[0m     \u001b[38;5;28;01mif\u001b[39;00m i \u001b[38;5;241m%\u001b[39m n_steps \u001b[38;5;241m==\u001b[39m \u001b[38;5;241m0\u001b[39m:\n\u001b[0;32m     12\u001b[0m         \u001b[38;5;28mprint\u001b[39m(\u001b[38;5;124mf\u001b[39m\u001b[38;5;124m\"\u001b[39m\u001b[38;5;124mentering pause at \u001b[39m\u001b[38;5;132;01m{\u001b[39;00mi\u001b[38;5;132;01m}\u001b[39;00m\u001b[38;5;124m\"\u001b[39m)\n",
      "File \u001b[1;32m~\\memoire\\gym-donkeycar-retry\\gym-donkeycar\\gym_donkeycar\\envs\\donkey_env.py:135\u001b[0m, in \u001b[0;36mDonkeyEnv.step\u001b[1;34m(self, action)\u001b[0m\n\u001b[0;32m    133\u001b[0m \u001b[38;5;28;01mdef\u001b[39;00m \u001b[38;5;21mstep\u001b[39m(\u001b[38;5;28mself\u001b[39m, action: np\u001b[38;5;241m.\u001b[39mndarray) \u001b[38;5;241m-\u001b[39m\u001b[38;5;241m>\u001b[39m Tuple[np\u001b[38;5;241m.\u001b[39mndarray, \u001b[38;5;28mfloat\u001b[39m, \u001b[38;5;28mbool\u001b[39m, Dict[\u001b[38;5;28mstr\u001b[39m, Any]]:\n\u001b[0;32m    134\u001b[0m     \u001b[38;5;28;01mfor\u001b[39;00m _ \u001b[38;5;129;01min\u001b[39;00m \u001b[38;5;28mrange\u001b[39m(\u001b[38;5;28mself\u001b[39m\u001b[38;5;241m.\u001b[39mframe_skip):\n\u001b[1;32m--> 135\u001b[0m         \u001b[38;5;28;43mself\u001b[39;49m\u001b[38;5;241;43m.\u001b[39;49m\u001b[43mviewer\u001b[49m\u001b[38;5;241;43m.\u001b[39;49m\u001b[43mtake_action\u001b[49m\u001b[43m(\u001b[49m\u001b[43maction\u001b[49m\u001b[43m)\u001b[49m\n\u001b[0;32m    136\u001b[0m         observation, reward, done, info \u001b[38;5;241m=\u001b[39m \u001b[38;5;28mself\u001b[39m\u001b[38;5;241m.\u001b[39mviewer\u001b[38;5;241m.\u001b[39mobserve()\n\u001b[0;32m    137\u001b[0m     \u001b[38;5;28;01mreturn\u001b[39;00m observation, reward, done, info\n",
      "File \u001b[1;32m~\\memoire\\gym-donkeycar-retry\\gym-donkeycar\\gym_donkeycar\\envs\\donkey_sim.py:105\u001b[0m, in \u001b[0;36mDonkeyUnitySimContoller.take_action\u001b[1;34m(self, action)\u001b[0m\n\u001b[0;32m    104\u001b[0m \u001b[38;5;28;01mdef\u001b[39;00m \u001b[38;5;21mtake_action\u001b[39m(\u001b[38;5;28mself\u001b[39m, action: np\u001b[38;5;241m.\u001b[39mndarray):\n\u001b[1;32m--> 105\u001b[0m     \u001b[38;5;28;43mself\u001b[39;49m\u001b[38;5;241;43m.\u001b[39;49m\u001b[43mhandler\u001b[49m\u001b[38;5;241;43m.\u001b[39;49m\u001b[43mtake_action\u001b[49m\u001b[43m(\u001b[49m\u001b[43maction\u001b[49m\u001b[43m)\u001b[49m\n",
      "File \u001b[1;32m~\\memoire\\gym-donkeycar-retry\\gym-donkeycar\\gym_donkeycar\\envs\\donkey_sim.py:439\u001b[0m, in \u001b[0;36mDonkeyUnitySimHandler.take_action\u001b[1;34m(self, action)\u001b[0m\n\u001b[0;32m    438\u001b[0m \u001b[38;5;28;01mdef\u001b[39;00m \u001b[38;5;21mtake_action\u001b[39m(\u001b[38;5;28mself\u001b[39m, action: np\u001b[38;5;241m.\u001b[39mndarray) \u001b[38;5;241m-\u001b[39m\u001b[38;5;241m>\u001b[39m \u001b[38;5;28;01mNone\u001b[39;00m:\n\u001b[1;32m--> 439\u001b[0m     \u001b[38;5;28;43mself\u001b[39;49m\u001b[38;5;241;43m.\u001b[39;49m\u001b[43msend_control\u001b[49m\u001b[43m(\u001b[49m\u001b[43maction\u001b[49m\u001b[43m[\u001b[49m\u001b[38;5;241;43m0\u001b[39;49m\u001b[43m]\u001b[49m\u001b[43m,\u001b[49m\u001b[43m \u001b[49m\u001b[43maction\u001b[49m\u001b[43m[\u001b[49m\u001b[38;5;241;43m1\u001b[39;49m\u001b[43m]\u001b[49m\u001b[43m)\u001b[49m\n",
      "File \u001b[1;32m~\\memoire\\gym-donkeycar-retry\\gym-donkeycar\\gym_donkeycar\\envs\\donkey_sim.py:664\u001b[0m, in \u001b[0;36mDonkeyUnitySimHandler.send_control\u001b[1;34m(self, steer, throttle, brake)\u001b[0m\n\u001b[0;32m    657\u001b[0m     \u001b[38;5;28;01mreturn\u001b[39;00m\n\u001b[0;32m    658\u001b[0m msg \u001b[38;5;241m=\u001b[39m {\n\u001b[0;32m    659\u001b[0m     \u001b[38;5;124m\"\u001b[39m\u001b[38;5;124mmsg_type\u001b[39m\u001b[38;5;124m\"\u001b[39m: \u001b[38;5;124m\"\u001b[39m\u001b[38;5;124mcontrol\u001b[39m\u001b[38;5;124m\"\u001b[39m,\n\u001b[0;32m    660\u001b[0m     \u001b[38;5;124m\"\u001b[39m\u001b[38;5;124msteering\u001b[39m\u001b[38;5;124m\"\u001b[39m: \u001b[38;5;28mstr\u001b[39m(steer),\n\u001b[0;32m    661\u001b[0m     \u001b[38;5;124m\"\u001b[39m\u001b[38;5;124mthrottle\u001b[39m\u001b[38;5;124m\"\u001b[39m: \u001b[38;5;28mstr\u001b[39m(throttle),\n\u001b[0;32m    662\u001b[0m     \u001b[38;5;124m\"\u001b[39m\u001b[38;5;124mbrake\u001b[39m\u001b[38;5;124m\"\u001b[39m: \u001b[38;5;28mstr\u001b[39m(brake),\n\u001b[0;32m    663\u001b[0m }\n\u001b[1;32m--> 664\u001b[0m \u001b[43mtime\u001b[49m\u001b[38;5;241;43m.\u001b[39;49m\u001b[43msleep\u001b[49m\u001b[43m(\u001b[49m\u001b[38;5;241;43m0.1\u001b[39;49m\u001b[43m)\u001b[49m\n\u001b[0;32m    665\u001b[0m \u001b[38;5;28mself\u001b[39m\u001b[38;5;241m.\u001b[39mqueue_message(msg)\n",
      "\u001b[1;31mKeyboardInterrupt\u001b[0m: "
     ]
    }
   ],
   "source": [
    "# import time\n",
    "# obs = env.reset()\n",
    "\n",
    "# n_steps = 100\n",
    "# max_iter = 1000\n",
    "\n",
    "# for i in range(max_iter):\n",
    "#     action, _states = pretrained_model.predict(obs, deterministic=True)\n",
    "#     obs, rewards, dones, info = env.step(action)\n",
    "\n",
    "#     if i % n_steps == 0:\n",
    "#         print(f\"entering pause at {i}\")\n",
    "#         handler = env.viewer.handler\n",
    "#         pause_message = {\"msg_type\": \"pause\"}\n",
    "#         resume_message = {\"msg_type\": \"resume\"}\n",
    "#         handler.blocking_send(pause_message)\n",
    "#         time.sleep(5)\n",
    "\n",
    "#         handler.blocking_send(resume_message)\n",
    "\n",
    "\n",
    "# pretrained_model.learn(total_timesteps=100_000, callback=callback)\n",
    "# pretrained_model.save(f\"../models/{name}\")"
   ]
  },
  {
   "cell_type": "code",
   "execution_count": 12,
   "metadata": {},
   "outputs": [
    {
     "ename": "AttributeError",
     "evalue": "'DonkeyHandler' object has no attribute 'reward_function'",
     "output_type": "error",
     "traceback": [
      "\u001b[1;31m---------------------------------------------------------------------------\u001b[0m",
      "\u001b[1;31mAttributeError\u001b[0m                            Traceback (most recent call last)",
      "Cell \u001b[1;32mIn[12], line 1\u001b[0m\n\u001b[1;32m----> 1\u001b[0m \u001b[38;5;28mprint\u001b[39m(\u001b[43menv\u001b[49m\u001b[38;5;241;43m.\u001b[39;49m\u001b[43mviewer\u001b[49m\u001b[38;5;241;43m.\u001b[39;49m\u001b[43mhandler\u001b[49m\u001b[38;5;241;43m.\u001b[39;49m\u001b[43mreward_function\u001b[49m)\n",
      "\u001b[1;31mAttributeError\u001b[0m: 'DonkeyHandler' object has no attribute 'reward_function'"
     ]
    }
   ],
   "source": [
    "print(env.viewer.handler.reward_function)"
   ]
  },
  {
   "cell_type": "code",
   "execution_count": 7,
   "metadata": {},
   "outputs": [
    {
     "data": {
      "application/vnd.jupyter.widget-view+json": {
       "model_id": "70a667bb0210464c91dcc88a904ab5a2",
       "version_major": 2,
       "version_minor": 0
      },
      "text/plain": [
       "Output()"
      ]
     },
     "metadata": {},
     "output_type": "display_data"
    },
    {
     "name": "stdout",
     "output_type": "stream",
     "text": [
      "-----------------------------\n",
      "| time/              |      |\n",
      "|    fps             | 8    |\n",
      "|    iterations      | 1    |\n",
      "|    time_elapsed    | 228  |\n",
      "|    total_timesteps | 2048 |\n",
      "-----------------------------\n"
     ]
    },
    {
     "data": {
      "text/html": [
       "<pre style=\"white-space:pre;overflow-x:auto;line-height:normal;font-family:Menlo,'DejaVu Sans Mono',consolas,'Courier New',monospace\">c:\\Users\\spige\\AppData\\Local\\Programs\\Python\\Python310\\lib\\site-packages\\gymnasium\\core.py:311: UserWarning: <span style=\"color: #808000; text-decoration-color: #808000\">WARN: </span>\n",
       "<span style=\"color: #808000; text-decoration-color: #808000\">env.viewer to get variables from other wrappers is deprecated and will be removed in v1.0, to get this variable you</span>\n",
       "<span style=\"color: #808000; text-decoration-color: #808000\">can do `env.unwrapped.viewer` for environment variables or `env.get_wrapper_attr('viewer')` that will search the </span>\n",
       "<span style=\"color: #808000; text-decoration-color: #808000\">reminding wrappers.</span>\n",
       "  logger.warn(\n",
       "</pre>\n"
      ],
      "text/plain": [
       "c:\\Users\\spige\\AppData\\Local\\Programs\\Python\\Python310\\lib\\site-packages\\gymnasium\\core.py:311: UserWarning: \u001b[33mWARN: \u001b[0m\n",
       "\u001b[33menv.viewer to get variables from other wrappers is deprecated and will be removed in v1.0, to get this variable you\u001b[0m\n",
       "\u001b[33mcan do `env.unwrapped.viewer` for environment variables or `env.get_wrapper_attr('viewer')` that will search the \u001b[0m\n",
       "\u001b[33mreminding wrappers.\u001b[0m\n",
       "  logger.warn(\n"
      ]
     },
     "metadata": {},
     "output_type": "display_data"
    }
   ],
   "source": [
    "env.reset()\n",
    "\n",
    "pretrained_model.learn(total_timesteps=100_000, callback=callback)\n",
    "pretrained_model.save(f\"../models/{name}\")\n"
   ]
  },
  {
   "cell_type": "code",
   "execution_count": 6,
   "metadata": {},
   "outputs": [],
   "source": [
    "env.close()"
   ]
  }
 ],
 "metadata": {
  "kernelspec": {
   "display_name": "Python 3",
   "language": "python",
   "name": "python3"
  },
  "language_info": {
   "codemirror_mode": {
    "name": "ipython",
    "version": 3
   },
   "file_extension": ".py",
   "mimetype": "text/x-python",
   "name": "python",
   "nbconvert_exporter": "python",
   "pygments_lexer": "ipython3",
   "version": "3.10.6"
  }
 },
 "nbformat": 4,
 "nbformat_minor": 2
}
